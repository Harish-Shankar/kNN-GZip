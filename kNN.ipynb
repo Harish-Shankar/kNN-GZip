{
 "cells": [
  {
   "cell_type": "code",
   "execution_count": 2,
   "metadata": {},
   "outputs": [],
   "source": [
    "from sklearn.neighbors import KNeighborsClassifier\n",
    "import gzip\n",
    "import pickle"
   ]
  },
  {
   "cell_type": "code",
   "execution_count": 3,
   "metadata": {},
   "outputs": [],
   "source": [
    "with open(f\"sentiment-dataset-500.pickle\", \"rb\") as f:\n",
    "    dataset = pickle.load(f)\n",
    "\n",
    "train_x, train_y, test_x, test_y = dataset"
   ]
  },
  {
   "cell_type": "code",
   "execution_count": 30,
   "metadata": {},
   "outputs": [],
   "source": [
    "def normalized_distance(text1, text2):\n",
    "  text1_compressed = len(gzip.compress(text1.encode()))\n",
    "  text2_compressed = len(gzip.compress(text2.encode()))  \n",
    "  combined = len(gzip.compress((\" \".join([text1,text2])).encode()))\n",
    "  return (combined - min(text1_compressed, text2_compressed)) / max(text1_compressed, text2_compressed)"
   ]
  },
  {
   "cell_type": "code",
   "execution_count": 31,
   "metadata": {},
   "outputs": [],
   "source": [
    "train_ncd = [[normalized_distance(train_x[i], train_x[j]) for j in range(len(train_x))] for i in range(len(train_x))]"
   ]
  },
  {
   "cell_type": "code",
   "execution_count": 32,
   "metadata": {},
   "outputs": [],
   "source": [
    "test_ncd = [[normalized_distance(test_x[i], train_x[j]) for j in range(len(train_x))] for i in range(len(test_x))]"
   ]
  },
  {
   "cell_type": "code",
   "execution_count": 34,
   "metadata": {},
   "outputs": [
    {
     "name": "stdout",
     "output_type": "stream",
     "text": [
      "For  1  the accuracy was: 0.6138613861386139\n",
      "For  2  the accuracy was: 0.5247524752475248\n",
      "For  3  the accuracy was: 0.594059405940594\n",
      "For  4  the accuracy was: 0.5742574257425742\n",
      "For  5  the accuracy was: 0.6039603960396039\n",
      "For  6  the accuracy was: 0.6336633663366337\n",
      "For  7  the accuracy was: 0.7029702970297029\n",
      "For  8  the accuracy was: 0.6039603960396039\n",
      "For  9  the accuracy was: 0.594059405940594\n",
      "For  10  the accuracy was: 0.6039603960396039\n"
     ]
    }
   ],
   "source": [
    "for i in range(1, 11):\n",
    "    neigh = KNeighborsClassifier(n_neighbors=i)\n",
    "    neigh.fit(train_ncd, train_y)\n",
    "    print(\"For \",i, \" the accuracy was:\", neigh.score(test_ncd, test_y))"
   ]
  }
 ],
 "metadata": {
  "kernelspec": {
   "display_name": "ml",
   "language": "python",
   "name": "python3"
  },
  "language_info": {
   "codemirror_mode": {
    "name": "ipython",
    "version": 3
   },
   "file_extension": ".py",
   "mimetype": "text/x-python",
   "name": "python",
   "nbconvert_exporter": "python",
   "pygments_lexer": "ipython3",
   "version": "3.11.4"
  },
  "orig_nbformat": 4
 },
 "nbformat": 4,
 "nbformat_minor": 2
}
